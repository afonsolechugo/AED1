{
 "cells": [
  {
   "cell_type": "markdown",
   "metadata": {},
   "source": [
    "![Algoritmos e Estrutura de Dados I](AED1_banner.jpg)"
   ]
  },
  {
   "cell_type": "markdown",
   "metadata": {},
   "source": [
    "## <font color='blue'>Algoritmos e Estrutura de Dados I</font>\n",
    "## <font color='blue'>Aula 9 -  Revisão</font>"
   ]
  },
  {
   "cell_type": "code",
   "execution_count": null,
   "metadata": {},
   "outputs": [],
   "source": [
    "# Versão da Linguagem Python\n",
    "from platform import python_version\n",
    "print('Versão da Linguagem Python Usada Neste Jupyter Notebook:', python_version())"
   ]
  },
  {
   "cell_type": "markdown",
   "metadata": {},
   "source": [
    "## Estrutura sequencial"
   ]
  },
  {
   "cell_type": "markdown",
   "metadata": {},
   "source": [
    "Escreva um programa em Python que solicite ao usuário o valor de dois números, calcule e exiba a soma deles."
   ]
  },
  {
   "cell_type": "code",
   "execution_count": null,
   "metadata": {},
   "outputs": [],
   "source": [
    "\n"
   ]
  },
  {
   "attachments": {},
   "cell_type": "markdown",
   "metadata": {},
   "source": [
    "Escreva um programa em Python que solicite ao usuário a temperatura em graus Celsius e converta para Fahrenheit. A fórmula para conversão é F = C * 9/5 + 32.\n"
   ]
  },
  {
   "cell_type": "code",
   "execution_count": 28,
   "metadata": {},
   "outputs": [
    {
     "name": "stdin",
     "output_type": "stream",
     "text": [
      "Insira a temperatura em Celsius desejada:  28\n"
     ]
    },
    {
     "name": "stdout",
     "output_type": "stream",
     "text": [
      "A temperatura em Fahrenheit é:\n",
      "82.4\n"
     ]
    }
   ],
   "source": [
    "user_input = float(input(\"Insira a temperatura em Celsius desejada: \"))\n",
    "temp_fahrenheit = (user_input*(9/5))+32\n",
    "print(f\"A temperatura em Fahrenheit é:\\n{temp_fahrenheit}\")"
   ]
  },
  {
   "cell_type": "markdown",
   "metadata": {},
   "source": [
    "## Estrutura Condicional"
   ]
  },
  {
   "cell_type": "markdown",
   "metadata": {},
   "source": [
    "Escreva um programa em Python que solicite ao usuário um número e verifique se ele é positivo, negativo ou zero. Exiba a mensagem correspondente.\n"
   ]
  },
  {
   "cell_type": "code",
   "execution_count": null,
   "metadata": {},
   "outputs": [],
   "source": [
    "user_input = int(input(\"Insira o número desejado:\"))\n",
    "if user_input <0:\n",
    "    print(f\"The number {user_input} is lower than zero!\")\n",
    "elif user_input ==0:\n",
    "    print(f\"The number {user_input} is zero!\")\n",
    "else:\n",
    "    print(f\"The number {user_input} is higher than zero!\")"
   ]
  },
  {
   "cell_type": "markdown",
   "metadata": {},
   "source": [
    "Escreva um programa em Python que solicite ao usuário três números e determine qual é o maior entre eles.\n"
   ]
  },
  {
   "cell_type": "code",
   "execution_count": null,
   "metadata": {},
   "outputs": [],
   "source": [
    "import pandas\n",
    "num_1 = float(input(\"Insira o 1° número desejado:\"))\n",
    "num_2 = float(input(\"Insira o 2° número desejado:\"))\n",
    "num_3 = float(input(\"Insira o 3° número desejado:\"))\n",
    "list = [num_1,num_2,num_3]\n",
    "max_num = max(list)\n",
    "print(max_num)\n"
   ]
  },
  {
   "cell_type": "markdown",
   "metadata": {},
   "source": [
    "## Estrutura de Repetição"
   ]
  },
  {
   "cell_type": "markdown",
   "metadata": {},
   "source": [
    "Escreva um programa em Python que solicite um número inteiro positivo de 1 a 09 (você tem que verificar se o usuário não digitou fora desse intervalo) e em seguida deve exibir a tabuada desse numbero..\n"
   ]
  },
  {
   "cell_type": "code",
   "execution_count": 23,
   "metadata": {},
   "outputs": [
    {
     "name": "stdin",
     "output_type": "stream",
     "text": [
      "Tabuada do:  2\n"
     ]
    },
    {
     "name": "stdout",
     "output_type": "stream",
     "text": [
      " 2.0 x  0 =  0.0\n",
      " 2.0 x  1 =  2.0\n",
      " 2.0 x  2 =  4.0\n",
      " 2.0 x  3 =  6.0\n",
      " 2.0 x  4 =  8.0\n",
      " 2.0 x  5 = 10.0\n",
      " 2.0 x  6 = 12.0\n",
      " 2.0 x  7 = 14.0\n",
      " 2.0 x  8 = 16.0\n",
      " 2.0 x  9 = 18.0\n",
      " 2.0 x 10 = 20.0\n"
     ]
    }
   ],
   "source": [
    "while True:\n",
    "    \n",
    "    digito = input(\"Tabuada do: \")\n",
    "    if digito.isnumeric():\n",
    "        num = float(digito)\n",
    "        if num >=1 and num <=9:\n",
    "            break\n",
    "        else:\n",
    "            print(\"Digite um valor entre 1 e 9\")\n",
    "    else:\n",
    "        print(\"O que foi digitado nao é um numero\")\n",
    "\n",
    "for a in range (0,11):\n",
    "    print(f\"{num:4.1f} x {a:2d} = {(num*a):4.1f}\")"
   ]
  },
  {
   "cell_type": "markdown",
   "metadata": {},
   "source": [
    "Escreva um programa em Python que solicite ao usuário um número inteiro positivo e calcule o fatorial desse número.\n"
   ]
  },
  {
   "cell_type": "code",
   "execution_count": 24,
   "metadata": {},
   "outputs": [
    {
     "name": "stdin",
     "output_type": "stream",
     "text": [
      "Fatorial de:  32\n"
     ]
    },
    {
     "name": "stdout",
     "output_type": "stream",
     "text": [
      "263130836933693530167218012160000000\n"
     ]
    }
   ],
   "source": [
    "num = int(input(\"Fatorial de: \"))\n",
    "\n",
    "resultado = 1\n",
    "count = 1\n",
    "\n",
    "while count <= num:\n",
    "    resultado*=count\n",
    "    count+=1\n",
    "\n",
    "print(resultado)\n",
    "\n"
   ]
  },
  {
   "cell_type": "code",
   "execution_count": 25,
   "metadata": {},
   "outputs": [
    {
     "name": "stdin",
     "output_type": "stream",
     "text": [
      "digite um numero positivo s\n"
     ]
    },
    {
     "name": "stdout",
     "output_type": "stream",
     "text": [
      "NOK\n"
     ]
    },
    {
     "name": "stdin",
     "output_type": "stream",
     "text": [
      "digite um numero positivo d\n"
     ]
    },
    {
     "name": "stdout",
     "output_type": "stream",
     "text": [
      "NOK\n"
     ]
    },
    {
     "name": "stdin",
     "output_type": "stream",
     "text": [
      "digite um numero positivo f\n"
     ]
    },
    {
     "name": "stdout",
     "output_type": "stream",
     "text": [
      "NOK\n"
     ]
    },
    {
     "name": "stdin",
     "output_type": "stream",
     "text": [
      "digite um numero positivo s\n"
     ]
    },
    {
     "name": "stdout",
     "output_type": "stream",
     "text": [
      "NOK\n"
     ]
    },
    {
     "name": "stdin",
     "output_type": "stream",
     "text": [
      "digite um numero positivo f\n"
     ]
    },
    {
     "name": "stdout",
     "output_type": "stream",
     "text": [
      "NOK\n"
     ]
    },
    {
     "name": "stdin",
     "output_type": "stream",
     "text": [
      "digite um numero positivo g\n"
     ]
    },
    {
     "name": "stdout",
     "output_type": "stream",
     "text": [
      "NOK\n"
     ]
    },
    {
     "name": "stdin",
     "output_type": "stream",
     "text": [
      "digite um numero positivo h\n"
     ]
    },
    {
     "name": "stdout",
     "output_type": "stream",
     "text": [
      "NOK\n"
     ]
    },
    {
     "name": "stdin",
     "output_type": "stream",
     "text": [
      "digite um numero positivo 1\n"
     ]
    },
    {
     "name": "stdout",
     "output_type": "stream",
     "text": [
      "OK\n"
     ]
    }
   ],
   "source": [
    "while True:\n",
    "    digitação = input(\"digite um numero positivo\")\n",
    "    if digitação.isnumeric():\n",
    "        break\n",
    "    else:\n",
    "        print(\"NOK\")\n",
    "\n",
    "print(\"OK\")"
   ]
  },
  {
   "cell_type": "markdown",
   "metadata": {},
   "source": [
    "## Geral"
   ]
  },
  {
   "cell_type": "markdown",
   "metadata": {},
   "source": [
    "Você é um cientista de dados e precisa analisar as notas de um conjunto de estudantes em uma disciplina. Você deverá escrever um programa em Python que solicite ao usuário o número de estudantes e, em seguida, as notas desses estudantes. O programa deve calcular e exibir:\n",
    "\n",
    "- A média das notas.\n",
    "- A maior e a menor nota.\n",
    "- O número de estudantes aprovados (nota maior ou igual a 6) e reprovados (nota menor que 6).\n",
    "\n",
    "Regras:\n",
    "\n",
    "- Utilize variáveis simples para armazenar as informações.\n",
    "- Utilize estruturas de repetição para coletar as notas dos estudantes.\n",
    "- Utilize estruturas condicionais para determinar o status de aprovação dos estudantes."
   ]
  },
  {
   "cell_type": "code",
   "execution_count": 40,
   "metadata": {},
   "outputs": [
    {
     "name": "stdin",
     "output_type": "stream",
     "text": [
      "Digite o total de estudantes 5\n",
      "Entre com a nota do aluno 1:  5.7\n",
      "Entre com a nota do aluno 2:  2.5\n",
      "Entre com a nota do aluno 3:  8.9\n",
      "Entre com a nota do aluno 4:  1.3\n",
      "Entre com a nota do aluno 5:  7.8\n"
     ]
    },
    {
     "name": "stdout",
     "output_type": "stream",
     "text": [
      "A media das notas é igual a: 5.24\n",
      "A menor nota é igual a: 1.3\n",
      "A maior nota é: 8.9\n",
      "O numero de aprovados é: 2\n",
      "O numero de reprovados é: 3\n"
     ]
    }
   ],
   "source": [
    "qtd_alunos = int(input(\"Digite o total de estudantes\"))\n",
    "soma_notas = 0\n",
    "maior = 0\n",
    "menor = 10\n",
    "qty_aprov = 0\n",
    "qty_reprov = 0\n",
    "\n",
    "for i in range(qtd_alunos):\n",
    "    nota = float(input(f\"Entre com a nota do aluno {i+1}: \"))\n",
    "    if nota >=6:\n",
    "        qty_aprov+=1\n",
    "    else:\n",
    "        qty_reprov+=1\n",
    "    if nota > maior:\n",
    "        maior = nota\n",
    "    if nota < menor:\n",
    "        menor = nota\n",
    "    soma_notas+= nota\n",
    "\n",
    "media = soma_notas / qtd_alunos\n",
    "print(f\"A media das notas é igual a: {media}\")\n",
    "print(f\"A menor nota é igual a: {menor}\")\n",
    "print(f\"A maior nota é: {maior}\")\n",
    "print(f\"O numero de aprovados é: {qty_aprov}\")\n",
    "print(f\"O numero de reprovados é: {qty_reprov}\")\n",
    "\n"
   ]
  },
  {
   "cell_type": "markdown",
   "metadata": {},
   "source": [
    "Faça um programa que receba um número inteiro positivo e transforme esse número para binário."
   ]
  },
  {
   "cell_type": "code",
   "execution_count": 38,
   "metadata": {},
   "outputs": [
    {
     "name": "stdout",
     "output_type": "stream",
     "text": [
      "4.75\n"
     ]
    }
   ],
   "source": [
    "print(f\"{19/4}\")"
   ]
  },
  {
   "cell_type": "markdown",
   "metadata": {},
   "source": [
    "## Fim da Aula 9"
   ]
  }
 ],
 "metadata": {
  "kernelspec": {
   "display_name": "Python 3 (ipykernel)",
   "language": "python",
   "name": "python3"
  },
  "language_info": {
   "codemirror_mode": {
    "name": "ipython",
    "version": 3
   },
   "file_extension": ".py",
   "mimetype": "text/x-python",
   "name": "python",
   "nbconvert_exporter": "python",
   "pygments_lexer": "ipython3",
   "version": "3.12.4"
  }
 },
 "nbformat": 4,
 "nbformat_minor": 4
}
